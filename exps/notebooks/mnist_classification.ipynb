{
  "nbformat": 4,
  "nbformat_minor": 0,
  "metadata": {
    "colab": {
      "provenance": [],
      "gpuType": "T4"
    },
    "kernelspec": {
      "name": "python3",
      "display_name": "Python 3"
    },
    "language_info": {
      "name": "python"
    },
    "accelerator": "GPU"
  },
  "cells": [
    {
      "cell_type": "markdown",
      "source": [
        "# MNIST Classification with a Simple Neural Network and Zigzag\n",
        "\n",
        "In this notebook, we will implement a simple neural network to classify handwritten digits from the MNIST dataset using PyTorch. On top of it, we will apply the zigzag uncertainty approach and evaluate its uncertainty quality in terms of calibration and out-of-distribution detection."
      ],
      "metadata": {
        "id": "NVxqr5-Zqfuc"
      }
    },
    {
      "cell_type": "code",
      "source": [
        "import torch\n",
        "import torchvision\n",
        "import numpy as np\n",
        "\n",
        "n_epochs = 5 # number of epochs for training\n",
        "batch_size_train = 64 # batch size for training\n",
        "batch_size_test = 640 # batch size for testing\n",
        "learning_rate = 0.001 # learning rate for Adam\n",
        "log_interval = 10 # logging interval for metrics\n",
        "\n",
        "# fixing random seed\n",
        "random_seed = 1\n",
        "torch.backends.cudnn.enabled = False\n",
        "torch.manual_seed(random_seed)"
      ],
      "metadata": {
        "colab": {
          "base_uri": "https://localhost:8080/"
        },
        "id": "W5Jzaqkb-acN",
        "outputId": "404c3b90-6f88-46d9-faef-942446c8da9c"
      },
      "execution_count": 1,
      "outputs": [
        {
          "output_type": "execute_result",
          "data": {
            "text/plain": [
              "<torch._C.Generator at 0x78b9202a1ab0>"
            ]
          },
          "metadata": {},
          "execution_count": 1
        }
      ]
    },
    {
      "cell_type": "markdown",
      "source": [
        "# Train / Test data loading\n",
        "\n",
        "The MNIST dataset is a collection of handwritten digits commonly used for training and testing in the field of machine learning. It contains 70,000 grayscale images of handwritten digits, split into 60,000 training images and 10,000 test images. Each image is 28x28 pixels in size and represents a digit from 0 to 9."
      ],
      "metadata": {
        "id": "wIUdI6wVltgQ"
      }
    },
    {
      "cell_type": "code",
      "source": [
        "train_loader = torch.utils.data.DataLoader(\n",
        "  torchvision.datasets.MNIST('/files/', train=True, download=True,\n",
        "                             transform=torchvision.transforms.Compose([\n",
        "                               torchvision.transforms.ToTensor(),\n",
        "                               torchvision.transforms.Normalize(\n",
        "                                 (0.1307,), (0.3081,))\n",
        "                             ])),\n",
        "  batch_size=batch_size_train, shuffle=True)\n",
        "\n",
        "test_loader = torch.utils.data.DataLoader(\n",
        "  torchvision.datasets.MNIST('/files/', train=False, download=True,\n",
        "                             transform=torchvision.transforms.Compose([\n",
        "                               torchvision.transforms.ToTensor(),\n",
        "                               torchvision.transforms.Normalize(\n",
        "                                 (0.1307,), (0.3081,))\n",
        "                             ])),\n",
        "  batch_size=batch_size_test, shuffle=True)"
      ],
      "metadata": {
        "id": "xUpcA1Es-gil",
        "colab": {
          "base_uri": "https://localhost:8080/"
        },
        "outputId": "1fcb2a4a-a78b-4641-de28-47700497b315"
      },
      "execution_count": 5,
      "outputs": [
        {
          "output_type": "stream",
          "name": "stdout",
          "text": [
            "Downloading http://yann.lecun.com/exdb/mnist/train-images-idx3-ubyte.gz\n",
            "Failed to download (trying next):\n",
            "HTTP Error 403: Forbidden\n",
            "\n",
            "Downloading https://ossci-datasets.s3.amazonaws.com/mnist/train-images-idx3-ubyte.gz\n",
            "Downloading https://ossci-datasets.s3.amazonaws.com/mnist/train-images-idx3-ubyte.gz to /files/MNIST/raw/train-images-idx3-ubyte.gz\n"
          ]
        },
        {
          "output_type": "stream",
          "name": "stderr",
          "text": [
            "100%|██████████| 9912422/9912422 [00:01<00:00, 8522396.71it/s] \n"
          ]
        },
        {
          "output_type": "stream",
          "name": "stdout",
          "text": [
            "Extracting /files/MNIST/raw/train-images-idx3-ubyte.gz to /files/MNIST/raw\n",
            "\n",
            "Downloading http://yann.lecun.com/exdb/mnist/train-labels-idx1-ubyte.gz\n",
            "Failed to download (trying next):\n",
            "HTTP Error 403: Forbidden\n",
            "\n",
            "Downloading https://ossci-datasets.s3.amazonaws.com/mnist/train-labels-idx1-ubyte.gz\n",
            "Downloading https://ossci-datasets.s3.amazonaws.com/mnist/train-labels-idx1-ubyte.gz to /files/MNIST/raw/train-labels-idx1-ubyte.gz\n"
          ]
        },
        {
          "output_type": "stream",
          "name": "stderr",
          "text": [
            "100%|██████████| 28881/28881 [00:00<00:00, 623331.21it/s]\n"
          ]
        },
        {
          "output_type": "stream",
          "name": "stdout",
          "text": [
            "Extracting /files/MNIST/raw/train-labels-idx1-ubyte.gz to /files/MNIST/raw\n",
            "\n",
            "Downloading http://yann.lecun.com/exdb/mnist/t10k-images-idx3-ubyte.gz\n",
            "Failed to download (trying next):\n",
            "HTTP Error 403: Forbidden\n",
            "\n",
            "Downloading https://ossci-datasets.s3.amazonaws.com/mnist/t10k-images-idx3-ubyte.gz\n",
            "Downloading https://ossci-datasets.s3.amazonaws.com/mnist/t10k-images-idx3-ubyte.gz to /files/MNIST/raw/t10k-images-idx3-ubyte.gz\n"
          ]
        },
        {
          "output_type": "stream",
          "name": "stderr",
          "text": [
            "100%|██████████| 1648877/1648877 [00:00<00:00, 5568920.01it/s]\n"
          ]
        },
        {
          "output_type": "stream",
          "name": "stdout",
          "text": [
            "Extracting /files/MNIST/raw/t10k-images-idx3-ubyte.gz to /files/MNIST/raw\n",
            "\n",
            "Downloading http://yann.lecun.com/exdb/mnist/t10k-labels-idx1-ubyte.gz\n",
            "Failed to download (trying next):\n",
            "HTTP Error 403: Forbidden\n",
            "\n",
            "Downloading https://ossci-datasets.s3.amazonaws.com/mnist/t10k-labels-idx1-ubyte.gz\n",
            "Downloading https://ossci-datasets.s3.amazonaws.com/mnist/t10k-labels-idx1-ubyte.gz to /files/MNIST/raw/t10k-labels-idx1-ubyte.gz\n"
          ]
        },
        {
          "output_type": "stream",
          "name": "stderr",
          "text": [
            "100%|██████████| 4542/4542 [00:00<00:00, 4648738.11it/s]"
          ]
        },
        {
          "output_type": "stream",
          "name": "stdout",
          "text": [
            "Extracting /files/MNIST/raw/t10k-labels-idx1-ubyte.gz to /files/MNIST/raw\n",
            "\n"
          ]
        },
        {
          "output_type": "stream",
          "name": "stderr",
          "text": [
            "\n"
          ]
        }
      ]
    },
    {
      "cell_type": "code",
      "source": [
        "import matplotlib.pyplot as plt\n",
        "\n",
        "images, targets = next(iter(train_loader))\n",
        "\n",
        "# Number of images you want to display\n",
        "num_images = 10\n",
        "\n",
        "# Create a figure and a row of subplots\n",
        "fig, axes = plt.subplots(1, num_images, figsize=(15, 3))\n",
        "\n",
        "# Plot each image on a separate subplot\n",
        "for i in range(num_images):\n",
        "    axes[i].imshow(images[i, 0], cmap='gray')\n",
        "    axes[i].axis('off')  # Hide axis\n",
        "\n",
        "plt.show()"
      ],
      "metadata": {
        "colab": {
          "base_uri": "https://localhost:8080/",
          "height": 155
        },
        "id": "3aJULo7ZlwrI",
        "outputId": "6282f326-7a00-4850-9cef-5177fa6208e5"
      },
      "execution_count": 7,
      "outputs": [
        {
          "output_type": "display_data",
          "data": {
            "text/plain": [
              "<Figure size 1500x300 with 10 Axes>"
            ],
            "image/png": "[encoded data removed]"
          },
          "metadata": {}
        }
      ]
    },
    {
      "cell_type": "markdown",
      "source": [
        "## NN Definition\n",
        "\n",
        "We define a simple neural network model with several Conv2D layers followed by pooling layers and three fully connected layers. The input layer takes 28x28 MNIST images. The hidden layers have (320, 50) and (50, 50) units respectively, and the output layer has 10 units (one for each digit).\n",
        "\n",
        "Original images have 1 channel for each of the pixels; therefore, for ZigZag, the first Conv2D layer takes 2 channels, where the second channel is either blank or an initial prediction, as described in the paper.\n"
      ],
      "metadata": {
        "id": "_KodJeJMv_s2"
      }
    },
    {
      "cell_type": "code",
      "source": [
        "import torch.nn as nn\n",
        "import torch.nn.functional as F\n",
        "import torch.optim as optim\n",
        "\n",
        "class Net(nn.Module):\n",
        "    def __init__(self):\n",
        "        super(Net, self).__init__()\n",
        "        self.conv1 = nn.Conv2d(2, 10, kernel_size=5) # modified first layer, takes 2-channel image as input\n",
        "        self.conv2 = nn.Conv2d(10, 20, kernel_size=5)\n",
        "        self.fc1 = nn.Linear(320, 50)\n",
        "        self.fc2 = nn.Linear(50, 50)\n",
        "        self.fc3 = nn.Linear(50, 10)\n",
        "        self.activation = nn.LeakyReLU(negative_slope=0.01)\n",
        "\n",
        "    def forward(self, x, features=False):\n",
        "        x = self.activation(F.max_pool2d(self.conv1(x), 2))\n",
        "        x = self.activation(F.max_pool2d(self.conv2(x), 2))\n",
        "        x = x.view(-1, 320)\n",
        "        x = self.activation(self.fc1(x))\n",
        "        x = self.activation(self.fc2(x))\n",
        "        x = self.fc3(x)\n",
        "        return F.log_softmax(x)"
      ],
      "metadata": {
        "id": "MsTQf0xB-jGr"
      },
      "execution_count": 2,
      "outputs": []
    },
    {
      "cell_type": "markdown",
      "source": [
        "# Model Training"
      ],
      "metadata": {
        "id": "_-JISiC7yvlo"
      }
    },
    {
      "cell_type": "code",
      "source": [
        "network = Net().cpu()\n",
        "optimizer = optim.Adam(network.parameters(), lr=1e-3)\n",
        "\n",
        "train_losses = []\n",
        "train_counter = []\n",
        "test_losses = []\n",
        "test_counter = [i*len(train_loader.dataset) for i in range(n_epochs + 1)]"
      ],
      "metadata": {
        "id": "bxuXljOi-rzf"
      },
      "execution_count": 6,
      "outputs": []
    },
    {
      "cell_type": "code",
      "source": [
        "# The constant used as \"blank\" for the additional dimension\n",
        "# -20 is used as a value that is far from the class IDs\n",
        "С = -20\n",
        "\n",
        "def train(epoch):\n",
        "  network.train()\n",
        "  for batch_idx, (data, target) in enumerate(train_loader):\n",
        "\n",
        "    optimizer.zero_grad()\n",
        "\n",
        "    # For further details, see Eq. 1 in https://openreview.net/pdf?id=QSvb6jBXML\n",
        "    # The first input with an additional \"blank\" channel, the first term in Eq. 1\n",
        "    inputs_1 = torch.cat([data, C * torch.ones_like(data)], dim=1).cpu()\n",
        "\n",
        "    # The second input with actual targets, the second term in Eq. 1\n",
        "    t_inputs = target.reshape(-1, 1, 1, 1) * torch.ones_like(data)\n",
        "    inputs_2 = torch.cat([data, t_inputs], dim=1).cpu()\n",
        "\n",
        "    # For simplicity, we randomly choose which inputs to use for computing the first or second terms\n",
        "    # Could compute the whole Eq. 1 loss here instead\n",
        "    p = 0.5\n",
        "    mask = (torch.empty(inputs_1.shape[0], 1, 1, 1).uniform_(0, 1) > p).float().cpu()\n",
        "    inputs = inputs_1 * mask + inputs_2 * (1 - mask)\n",
        "    target = target\n",
        "\n",
        "    output = network(inputs, features=False)\n",
        "\n",
        "    loss = F.nll_loss(output, target.cpu())\n",
        "    loss.backward()\n",
        "    optimizer.step()\n",
        "\n",
        "    loss = loss.cpu()\n",
        "\n",
        "    if batch_idx % log_interval == 0:\n",
        "      print('Train Epoch: {} [{}/{} ({:.0f}%)]\\tLoss: {:.6f}'.format(\n",
        "        epoch, batch_idx * len(data), len(train_loader.dataset),\n",
        "        100. * batch_idx / len(train_loader), loss.item()))\n",
        "      train_losses.append(loss.item())\n",
        "      train_counter.append(\n",
        "        (batch_idx*64) + ((epoch-1)*len(train_loader.dataset)))\n",
        "      torch.save(network.state_dict(), '/vanilla_model.pth')\n",
        "      torch.save(optimizer.state_dict(), '/vanilla_optimizer.pth')\n",
        "\n",
        "def test():\n",
        "  network.eval()\n",
        "  test_loss = 0\n",
        "  correct = 0\n",
        "  with torch.no_grad():\n",
        "    for data, target in test_loader:\n",
        "      # Since we only evaluate accuracy, we only perform inference with the \"blank\" input\n",
        "      inputs = torch.cat([data, С*torch.ones_like(data)], dim=1).cpu()\n",
        "      output = network(inputs).cpu()\n",
        "      test_loss += F.nll_loss(output, target, size_average=False).item()\n",
        "      pred = output.data.max(1, keepdim=True)[1]\n",
        "      correct += pred.eq(target.data.view_as(pred)).sum()\n",
        "  test_loss /= len(test_loader.dataset)\n",
        "  test_losses.append(test_loss)\n",
        "  print('\\nTest set: Avg. loss: {:.4f}, Accuracy: {}/{} ({:.0f}%)\\n'.format(\n",
        "    test_loss, correct, len(test_loader.dataset),\n",
        "    100. * correct / len(test_loader.dataset)))\n",
        "  return 100 * correct / len(test_loader.dataset)"
      ],
      "metadata": {
        "id": "lCugrW3f-xCw"
      },
      "execution_count": 14,
      "outputs": []
    },
    {
      "cell_type": "code",
      "source": [
        "test()\n",
        "for epoch in range(1, n_epochs + 1):\n",
        "  train(epoch)\n",
        "  test()"
      ],
      "metadata": {
        "colab": {
          "base_uri": "https://localhost:8080/"
        },
        "id": "A_IS4C6B_HMp",
        "outputId": "b5252423-4826-4d3a-bc1d-c84a04b8dd6c"
      },
      "execution_count": 15,
      "outputs": [
        {
          "output_type": "stream",
          "name": "stderr",
          "text": [
            "<ipython-input-2-7d6a1feb5ac6>:22: UserWarning: Implicit dimension choice for log_softmax has been deprecated. Change the call to include dim=X as an argument.\n",
            "  return F.log_softmax(x)\n",
            "/usr/local/lib/python3.10/dist-packages/torch/nn/_reduction.py:42: UserWarning: size_average and reduce args will be deprecated, please use reduction='sum' instead.\n",
            "  warnings.warn(warning.format(ret))\n"
          ]
        },
        {
          "output_type": "stream",
          "name": "stdout",
          "text": [
            "\n",
            "Test set: Avg. loss: 2.3075, Accuracy: 911/10000 (9%)\n",
            "\n",
            "Train Epoch: 1 [0/60000 (0%)]\tLoss: 2.303127\n",
            "Train Epoch: 1 [640/60000 (1%)]\tLoss: 2.230019\n",
            "Train Epoch: 1 [1280/60000 (2%)]\tLoss: 2.159297\n",
            "Train Epoch: 1 [1920/60000 (3%)]\tLoss: 1.965385\n",
            "Train Epoch: 1 [2560/60000 (4%)]\tLoss: 1.820967\n",
            "Train Epoch: 1 [3200/60000 (5%)]\tLoss: 1.562164\n",
            "Train Epoch: 1 [3840/60000 (6%)]\tLoss: 1.482183\n",
            "Train Epoch: 1 [4480/60000 (7%)]\tLoss: 1.191792\n",
            "Train Epoch: 1 [5120/60000 (9%)]\tLoss: 0.900879\n",
            "Train Epoch: 1 [5760/60000 (10%)]\tLoss: 0.935195\n",
            "Train Epoch: 1 [6400/60000 (11%)]\tLoss: 0.523002\n",
            "Train Epoch: 1 [7040/60000 (12%)]\tLoss: 0.413025\n",
            "Train Epoch: 1 [7680/60000 (13%)]\tLoss: 0.417724\n",
            "Train Epoch: 1 [8320/60000 (14%)]\tLoss: 0.443372\n",
            "Train Epoch: 1 [8960/60000 (15%)]\tLoss: 0.663397\n",
            "Train Epoch: 1 [9600/60000 (16%)]\tLoss: 0.399820\n",
            "Train Epoch: 1 [10240/60000 (17%)]\tLoss: 0.343136\n",
            "Train Epoch: 1 [10880/60000 (18%)]\tLoss: 0.353270\n",
            "Train Epoch: 1 [11520/60000 (19%)]\tLoss: 0.396569\n",
            "Train Epoch: 1 [12160/60000 (20%)]\tLoss: 0.502693\n",
            "Train Epoch: 1 [12800/60000 (21%)]\tLoss: 0.393992\n",
            "Train Epoch: 1 [13440/60000 (22%)]\tLoss: 0.298608\n",
            "Train Epoch: 1 [14080/60000 (23%)]\tLoss: 0.280551\n",
            "Train Epoch: 1 [14720/60000 (25%)]\tLoss: 0.224723\n",
            "Train Epoch: 1 [15360/60000 (26%)]\tLoss: 0.183857\n",
            "Train Epoch: 1 [16000/60000 (27%)]\tLoss: 0.294761\n",
            "Train Epoch: 1 [16640/60000 (28%)]\tLoss: 0.159238\n",
            "Train Epoch: 1 [17280/60000 (29%)]\tLoss: 0.206616\n",
            "Train Epoch: 1 [17920/60000 (30%)]\tLoss: 0.190439\n",
            "Train Epoch: 1 [18560/60000 (31%)]\tLoss: 0.256793\n",
            "Train Epoch: 1 [19200/60000 (32%)]\tLoss: 0.167364\n",
            "Train Epoch: 1 [19840/60000 (33%)]\tLoss: 0.056848\n",
            "Train Epoch: 1 [20480/60000 (34%)]\tLoss: 0.213381\n",
            "Train Epoch: 1 [21120/60000 (35%)]\tLoss: 0.166252\n",
            "Train Epoch: 1 [21760/60000 (36%)]\tLoss: 0.122455\n",
            "Train Epoch: 1 [22400/60000 (37%)]\tLoss: 0.183341\n",
            "Train Epoch: 1 [23040/60000 (38%)]\tLoss: 0.152304\n",
            "Train Epoch: 1 [23680/60000 (39%)]\tLoss: 0.090101\n",
            "Train Epoch: 1 [24320/60000 (41%)]\tLoss: 0.161974\n",
            "Train Epoch: 1 [24960/60000 (42%)]\tLoss: 0.088413\n",
            "Train Epoch: 1 [25600/60000 (43%)]\tLoss: 0.096015\n",
            "Train Epoch: 1 [26240/60000 (44%)]\tLoss: 0.241730\n",
            "Train Epoch: 1 [26880/60000 (45%)]\tLoss: 0.123330\n",
            "Train Epoch: 1 [27520/60000 (46%)]\tLoss: 0.293512\n",
            "Train Epoch: 1 [28160/60000 (47%)]\tLoss: 0.171833\n",
            "Train Epoch: 1 [28800/60000 (48%)]\tLoss: 0.133016\n",
            "Train Epoch: 1 [29440/60000 (49%)]\tLoss: 0.044739\n",
            "Train Epoch: 1 [30080/60000 (50%)]\tLoss: 0.239560\n",
            "Train Epoch: 1 [30720/60000 (51%)]\tLoss: 0.110569\n",
            "Train Epoch: 1 [31360/60000 (52%)]\tLoss: 0.204191\n",
            "Train Epoch: 1 [32000/60000 (53%)]\tLoss: 0.176194\n",
            "Train Epoch: 1 [32640/60000 (54%)]\tLoss: 0.118149\n",
            "Train Epoch: 1 [33280/60000 (55%)]\tLoss: 0.196651\n",
            "Train Epoch: 1 [33920/60000 (57%)]\tLoss: 0.074951\n",
            "Train Epoch: 1 [34560/60000 (58%)]\tLoss: 0.183482\n",
            "Train Epoch: 1 [35200/60000 (59%)]\tLoss: 0.160405\n",
            "Train Epoch: 1 [35840/60000 (60%)]\tLoss: 0.122833\n",
            "Train Epoch: 1 [36480/60000 (61%)]\tLoss: 0.098526\n",
            "Train Epoch: 1 [37120/60000 (62%)]\tLoss: 0.080859\n",
            "Train Epoch: 1 [37760/60000 (63%)]\tLoss: 0.147681\n",
            "Train Epoch: 1 [38400/60000 (64%)]\tLoss: 0.058783\n",
            "Train Epoch: 1 [39040/60000 (65%)]\tLoss: 0.158631\n",
            "Train Epoch: 1 [39680/60000 (66%)]\tLoss: 0.194831\n",
            "Train Epoch: 1 [40320/60000 (67%)]\tLoss: 0.040818\n",
            "Train Epoch: 1 [40960/60000 (68%)]\tLoss: 0.067308\n",
            "Train Epoch: 1 [41600/60000 (69%)]\tLoss: 0.119202\n",
            "Train Epoch: 1 [42240/60000 (70%)]\tLoss: 0.116628\n",
            "Train Epoch: 1 [42880/60000 (71%)]\tLoss: 0.077571\n",
            "Train Epoch: 1 [43520/60000 (72%)]\tLoss: 0.170111\n",
            "Train Epoch: 1 [44160/60000 (74%)]\tLoss: 0.150980\n",
            "Train Epoch: 1 [44800/60000 (75%)]\tLoss: 0.071683\n",
            "Train Epoch: 1 [45440/60000 (76%)]\tLoss: 0.196046\n",
            "Train Epoch: 1 [46080/60000 (77%)]\tLoss: 0.315194\n",
            "Train Epoch: 1 [46720/60000 (78%)]\tLoss: 0.138326\n",
            "Train Epoch: 1 [47360/60000 (79%)]\tLoss: 0.306005\n",
            "Train Epoch: 1 [48000/60000 (80%)]\tLoss: 0.137132\n",
            "Train Epoch: 1 [48640/60000 (81%)]\tLoss: 0.078990\n",
            "Train Epoch: 1 [49280/60000 (82%)]\tLoss: 0.094296\n",
            "Train Epoch: 1 [49920/60000 (83%)]\tLoss: 0.053233\n",
            "Train Epoch: 1 [50560/60000 (84%)]\tLoss: 0.077529\n",
            "Train Epoch: 1 [51200/60000 (85%)]\tLoss: 0.145734\n",
            "Train Epoch: 1 [51840/60000 (86%)]\tLoss: 0.117903\n",
            "Train Epoch: 1 [52480/60000 (87%)]\tLoss: 0.052137\n",
            "Train Epoch: 1 [53120/60000 (88%)]\tLoss: 0.147701\n",
            "Train Epoch: 1 [53760/60000 (90%)]\tLoss: 0.060554\n",
            "Train Epoch: 1 [54400/60000 (91%)]\tLoss: 0.168981\n",
            "Train Epoch: 1 [55040/60000 (92%)]\tLoss: 0.035433\n",
            "Train Epoch: 1 [55680/60000 (93%)]\tLoss: 0.036055\n",
            "Train Epoch: 1 [56320/60000 (94%)]\tLoss: 0.077380\n",
            "Train Epoch: 1 [56960/60000 (95%)]\tLoss: 0.066792\n",
            "Train Epoch: 1 [57600/60000 (96%)]\tLoss: 0.169490\n",
            "Train Epoch: 1 [58240/60000 (97%)]\tLoss: 0.076364\n",
            "Train Epoch: 1 [58880/60000 (98%)]\tLoss: 0.104488\n",
            "Train Epoch: 1 [59520/60000 (99%)]\tLoss: 0.160209\n",
            "\n",
            "Test set: Avg. loss: 0.1395, Accuracy: 9537/10000 (95%)\n",
            "\n",
            "Train Epoch: 2 [0/60000 (0%)]\tLoss: 0.143691\n",
            "Train Epoch: 2 [640/60000 (1%)]\tLoss: 0.028519\n",
            "Train Epoch: 2 [1280/60000 (2%)]\tLoss: 0.015968\n",
            "Train Epoch: 2 [1920/60000 (3%)]\tLoss: 0.039474\n",
            "Train Epoch: 2 [2560/60000 (4%)]\tLoss: 0.018518\n",
            "Train Epoch: 2 [3200/60000 (5%)]\tLoss: 0.183859\n",
            "Train Epoch: 2 [3840/60000 (6%)]\tLoss: 0.146465\n",
            "Train Epoch: 2 [4480/60000 (7%)]\tLoss: 0.115611\n",
            "Train Epoch: 2 [5120/60000 (9%)]\tLoss: 0.098619\n",
            "Train Epoch: 2 [5760/60000 (10%)]\tLoss: 0.058289\n",
            "Train Epoch: 2 [6400/60000 (11%)]\tLoss: 0.165014\n",
            "Train Epoch: 2 [7040/60000 (12%)]\tLoss: 0.041986\n",
            "Train Epoch: 2 [7680/60000 (13%)]\tLoss: 0.027278\n",
            "Train Epoch: 2 [8320/60000 (14%)]\tLoss: 0.065874\n",
            "Train Epoch: 2 [8960/60000 (15%)]\tLoss: 0.058870\n",
            "Train Epoch: 2 [9600/60000 (16%)]\tLoss: 0.166446\n",
            "Train Epoch: 2 [10240/60000 (17%)]\tLoss: 0.036134\n",
            "Train Epoch: 2 [10880/60000 (18%)]\tLoss: 0.041613\n",
            "Train Epoch: 2 [11520/60000 (19%)]\tLoss: 0.099630\n",
            "Train Epoch: 2 [12160/60000 (20%)]\tLoss: 0.024120\n",
            "Train Epoch: 2 [12800/60000 (21%)]\tLoss: 0.135963\n",
            "Train Epoch: 2 [13440/60000 (22%)]\tLoss: 0.040409\n",
            "Train Epoch: 2 [14080/60000 (23%)]\tLoss: 0.014017\n",
            "Train Epoch: 2 [14720/60000 (25%)]\tLoss: 0.055852\n",
            "Train Epoch: 2 [15360/60000 (26%)]\tLoss: 0.002736\n",
            "Train Epoch: 2 [16000/60000 (27%)]\tLoss: 0.019638\n",
            "Train Epoch: 2 [16640/60000 (28%)]\tLoss: 0.162328\n",
            "Train Epoch: 2 [17280/60000 (29%)]\tLoss: 0.066415\n",
            "Train Epoch: 2 [17920/60000 (30%)]\tLoss: 0.018387\n",
            "Train Epoch: 2 [18560/60000 (31%)]\tLoss: 0.038190\n",
            "Train Epoch: 2 [19200/60000 (32%)]\tLoss: 0.067115\n",
            "Train Epoch: 2 [19840/60000 (33%)]\tLoss: 0.036400\n",
            "Train Epoch: 2 [20480/60000 (34%)]\tLoss: 0.008041\n",
            "Train Epoch: 2 [21120/60000 (35%)]\tLoss: 0.044165\n",
            "Train Epoch: 2 [21760/60000 (36%)]\tLoss: 0.048843\n",
            "Train Epoch: 2 [22400/60000 (37%)]\tLoss: 0.139830\n",
            "Train Epoch: 2 [23040/60000 (38%)]\tLoss: 0.015496\n",
            "Train Epoch: 2 [23680/60000 (39%)]\tLoss: 0.181722\n",
            "Train Epoch: 2 [24320/60000 (41%)]\tLoss: 0.107156\n",
            "Train Epoch: 2 [24960/60000 (42%)]\tLoss: 0.070112\n",
            "Train Epoch: 2 [25600/60000 (43%)]\tLoss: 0.056658\n",
            "Train Epoch: 2 [26240/60000 (44%)]\tLoss: 0.108730\n",
            "Train Epoch: 2 [26880/60000 (45%)]\tLoss: 0.024062\n",
            "Train Epoch: 2 [27520/60000 (46%)]\tLoss: 0.111720\n",
            "Train Epoch: 2 [28160/60000 (47%)]\tLoss: 0.102363\n",
            "Train Epoch: 2 [28800/60000 (48%)]\tLoss: 0.023568\n",
            "Train Epoch: 2 [29440/60000 (49%)]\tLoss: 0.100863\n",
            "Train Epoch: 2 [30080/60000 (50%)]\tLoss: 0.032963\n",
            "Train Epoch: 2 [30720/60000 (51%)]\tLoss: 0.026612\n",
            "Train Epoch: 2 [31360/60000 (52%)]\tLoss: 0.320988\n",
            "Train Epoch: 2 [32000/60000 (53%)]\tLoss: 0.119970\n",
            "Train Epoch: 2 [32640/60000 (54%)]\tLoss: 0.089828\n",
            "Train Epoch: 2 [33280/60000 (55%)]\tLoss: 0.044540\n",
            "Train Epoch: 2 [33920/60000 (57%)]\tLoss: 0.099676\n",
            "Train Epoch: 2 [34560/60000 (58%)]\tLoss: 0.087746\n",
            "Train Epoch: 2 [35200/60000 (59%)]\tLoss: 0.017194\n",
            "Train Epoch: 2 [35840/60000 (60%)]\tLoss: 0.028494\n",
            "Train Epoch: 2 [36480/60000 (61%)]\tLoss: 0.103537\n",
            "Train Epoch: 2 [37120/60000 (62%)]\tLoss: 0.052692\n",
            "Train Epoch: 2 [37760/60000 (63%)]\tLoss: 0.044909\n",
            "Train Epoch: 2 [38400/60000 (64%)]\tLoss: 0.018799\n",
            "Train Epoch: 2 [39040/60000 (65%)]\tLoss: 0.078971\n",
            "Train Epoch: 2 [39680/60000 (66%)]\tLoss: 0.085507\n",
            "Train Epoch: 2 [40320/60000 (67%)]\tLoss: 0.060767\n",
            "Train Epoch: 2 [40960/60000 (68%)]\tLoss: 0.051651\n",
            "Train Epoch: 2 [41600/60000 (69%)]\tLoss: 0.042989\n",
            "Train Epoch: 2 [42240/60000 (70%)]\tLoss: 0.010747\n",
            "Train Epoch: 2 [42880/60000 (71%)]\tLoss: 0.119266\n",
            "Train Epoch: 2 [43520/60000 (72%)]\tLoss: 0.074446\n",
            "Train Epoch: 2 [44160/60000 (74%)]\tLoss: 0.018801\n",
            "Train Epoch: 2 [44800/60000 (75%)]\tLoss: 0.006298\n",
            "Train Epoch: 2 [45440/60000 (76%)]\tLoss: 0.051064\n",
            "Train Epoch: 2 [46080/60000 (77%)]\tLoss: 0.232522\n",
            "Train Epoch: 2 [46720/60000 (78%)]\tLoss: 0.121994\n",
            "Train Epoch: 2 [47360/60000 (79%)]\tLoss: 0.060846\n",
            "Train Epoch: 2 [48000/60000 (80%)]\tLoss: 0.078972\n",
            "Train Epoch: 2 [48640/60000 (81%)]\tLoss: 0.036874\n",
            "Train Epoch: 2 [49280/60000 (82%)]\tLoss: 0.026579\n",
            "Train Epoch: 2 [49920/60000 (83%)]\tLoss: 0.019852\n",
            "Train Epoch: 2 [50560/60000 (84%)]\tLoss: 0.021160\n",
            "Train Epoch: 2 [51200/60000 (85%)]\tLoss: 0.039462\n",
            "Train Epoch: 2 [51840/60000 (86%)]\tLoss: 0.068468\n",
            "Train Epoch: 2 [52480/60000 (87%)]\tLoss: 0.066510\n",
            "Train Epoch: 2 [53120/60000 (88%)]\tLoss: 0.075633\n",
            "Train Epoch: 2 [53760/60000 (90%)]\tLoss: 0.019946\n",
            "Train Epoch: 2 [54400/60000 (91%)]\tLoss: 0.018302\n",
            "Train Epoch: 2 [55040/60000 (92%)]\tLoss: 0.012446\n",
            "Train Epoch: 2 [55680/60000 (93%)]\tLoss: 0.011470\n",
            "Train Epoch: 2 [56320/60000 (94%)]\tLoss: 0.014791\n",
            "Train Epoch: 2 [56960/60000 (95%)]\tLoss: 0.024583\n",
            "Train Epoch: 2 [57600/60000 (96%)]\tLoss: 0.005738\n",
            "Train Epoch: 2 [58240/60000 (97%)]\tLoss: 0.057784\n",
            "Train Epoch: 2 [58880/60000 (98%)]\tLoss: 0.068207\n",
            "Train Epoch: 2 [59520/60000 (99%)]\tLoss: 0.118428\n",
            "\n",
            "Test set: Avg. loss: 0.0903, Accuracy: 9733/10000 (97%)\n",
            "\n",
            "Train Epoch: 3 [0/60000 (0%)]\tLoss: 0.112835\n",
            "Train Epoch: 3 [640/60000 (1%)]\tLoss: 0.019751\n",
            "Train Epoch: 3 [1280/60000 (2%)]\tLoss: 0.022671\n",
            "Train Epoch: 3 [1920/60000 (3%)]\tLoss: 0.037857\n",
            "Train Epoch: 3 [2560/60000 (4%)]\tLoss: 0.132112\n",
            "Train Epoch: 3 [3200/60000 (5%)]\tLoss: 0.026612\n",
            "Train Epoch: 3 [3840/60000 (6%)]\tLoss: 0.017712\n",
            "Train Epoch: 3 [4480/60000 (7%)]\tLoss: 0.002898\n",
            "Train Epoch: 3 [5120/60000 (9%)]\tLoss: 0.032907\n",
            "Train Epoch: 3 [5760/60000 (10%)]\tLoss: 0.020400\n",
            "Train Epoch: 3 [6400/60000 (11%)]\tLoss: 0.029983\n",
            "Train Epoch: 3 [7040/60000 (12%)]\tLoss: 0.123415\n",
            "Train Epoch: 3 [7680/60000 (13%)]\tLoss: 0.132765\n",
            "Train Epoch: 3 [8320/60000 (14%)]\tLoss: 0.114967\n",
            "Train Epoch: 3 [8960/60000 (15%)]\tLoss: 0.031040\n",
            "Train Epoch: 3 [9600/60000 (16%)]\tLoss: 0.034917\n",
            "Train Epoch: 3 [10240/60000 (17%)]\tLoss: 0.067567\n",
            "Train Epoch: 3 [10880/60000 (18%)]\tLoss: 0.079650\n",
            "Train Epoch: 3 [11520/60000 (19%)]\tLoss: 0.015868\n",
            "Train Epoch: 3 [12160/60000 (20%)]\tLoss: 0.018124\n",
            "Train Epoch: 3 [12800/60000 (21%)]\tLoss: 0.079874\n",
            "Train Epoch: 3 [13440/60000 (22%)]\tLoss: 0.090000\n",
            "Train Epoch: 3 [14080/60000 (23%)]\tLoss: 0.019197\n",
            "Train Epoch: 3 [14720/60000 (25%)]\tLoss: 0.059543\n",
            "Train Epoch: 3 [15360/60000 (26%)]\tLoss: 0.040227\n",
            "Train Epoch: 3 [16000/60000 (27%)]\tLoss: 0.033760\n",
            "Train Epoch: 3 [16640/60000 (28%)]\tLoss: 0.016155\n",
            "Train Epoch: 3 [17280/60000 (29%)]\tLoss: 0.094920\n",
            "Train Epoch: 3 [17920/60000 (30%)]\tLoss: 0.037057\n",
            "Train Epoch: 3 [18560/60000 (31%)]\tLoss: 0.162203\n",
            "Train Epoch: 3 [19200/60000 (32%)]\tLoss: 0.009024\n",
            "Train Epoch: 3 [19840/60000 (33%)]\tLoss: 0.043949\n",
            "Train Epoch: 3 [20480/60000 (34%)]\tLoss: 0.034237\n",
            "Train Epoch: 3 [21120/60000 (35%)]\tLoss: 0.002123\n",
            "Train Epoch: 3 [21760/60000 (36%)]\tLoss: 0.047207\n",
            "Train Epoch: 3 [22400/60000 (37%)]\tLoss: 0.032268\n",
            "Train Epoch: 3 [23040/60000 (38%)]\tLoss: 0.110063\n",
            "Train Epoch: 3 [23680/60000 (39%)]\tLoss: 0.102789\n",
            "Train Epoch: 3 [24320/60000 (41%)]\tLoss: 0.039546\n",
            "Train Epoch: 3 [24960/60000 (42%)]\tLoss: 0.020731\n",
            "Train Epoch: 3 [25600/60000 (43%)]\tLoss: 0.026468\n",
            "Train Epoch: 3 [26240/60000 (44%)]\tLoss: 0.105127\n",
            "Train Epoch: 3 [26880/60000 (45%)]\tLoss: 0.026356\n",
            "Train Epoch: 3 [27520/60000 (46%)]\tLoss: 0.085180\n",
            "Train Epoch: 3 [28160/60000 (47%)]\tLoss: 0.042605\n",
            "Train Epoch: 3 [28800/60000 (48%)]\tLoss: 0.030815\n",
            "Train Epoch: 3 [29440/60000 (49%)]\tLoss: 0.016197\n",
            "Train Epoch: 3 [30080/60000 (50%)]\tLoss: 0.010234\n",
            "Train Epoch: 3 [30720/60000 (51%)]\tLoss: 0.095994\n",
            "Train Epoch: 3 [31360/60000 (52%)]\tLoss: 0.169969\n",
            "Train Epoch: 3 [32000/60000 (53%)]\tLoss: 0.019291\n",
            "Train Epoch: 3 [32640/60000 (54%)]\tLoss: 0.011923\n",
            "Train Epoch: 3 [33280/60000 (55%)]\tLoss: 0.014021\n",
            "Train Epoch: 3 [33920/60000 (57%)]\tLoss: 0.015462\n",
            "Train Epoch: 3 [34560/60000 (58%)]\tLoss: 0.094215\n",
            "Train Epoch: 3 [35200/60000 (59%)]\tLoss: 0.038442\n",
            "Train Epoch: 3 [35840/60000 (60%)]\tLoss: 0.032636\n",
            "Train Epoch: 3 [36480/60000 (61%)]\tLoss: 0.102568\n",
            "Train Epoch: 3 [37120/60000 (62%)]\tLoss: 0.013506\n",
            "Train Epoch: 3 [37760/60000 (63%)]\tLoss: 0.011865\n",
            "Train Epoch: 3 [38400/60000 (64%)]\tLoss: 0.069772\n",
            "Train Epoch: 3 [39040/60000 (65%)]\tLoss: 0.048738\n",
            "Train Epoch: 3 [39680/60000 (66%)]\tLoss: 0.008586\n",
            "Train Epoch: 3 [40320/60000 (67%)]\tLoss: 0.002094\n",
            "Train Epoch: 3 [40960/60000 (68%)]\tLoss: 0.025911\n",
            "Train Epoch: 3 [41600/60000 (69%)]\tLoss: 0.027192\n",
            "Train Epoch: 3 [42240/60000 (70%)]\tLoss: 0.021326\n",
            "Train Epoch: 3 [42880/60000 (71%)]\tLoss: 0.069066\n",
            "Train Epoch: 3 [43520/60000 (72%)]\tLoss: 0.115341\n",
            "Train Epoch: 3 [44160/60000 (74%)]\tLoss: 0.011688\n",
            "Train Epoch: 3 [44800/60000 (75%)]\tLoss: 0.029046\n",
            "Train Epoch: 3 [45440/60000 (76%)]\tLoss: 0.020937\n",
            "Train Epoch: 3 [46080/60000 (77%)]\tLoss: 0.048221\n",
            "Train Epoch: 3 [46720/60000 (78%)]\tLoss: 0.036054\n",
            "Train Epoch: 3 [47360/60000 (79%)]\tLoss: 0.023395\n",
            "Train Epoch: 3 [48000/60000 (80%)]\tLoss: 0.030546\n",
            "Train Epoch: 3 [48640/60000 (81%)]\tLoss: 0.006842\n",
            "Train Epoch: 3 [49280/60000 (82%)]\tLoss: 0.047162\n",
            "Train Epoch: 3 [49920/60000 (83%)]\tLoss: 0.087026\n",
            "Train Epoch: 3 [50560/60000 (84%)]\tLoss: 0.053177\n",
            "Train Epoch: 3 [51200/60000 (85%)]\tLoss: 0.016628\n",
            "Train Epoch: 3 [51840/60000 (86%)]\tLoss: 0.011085\n",
            "Train Epoch: 3 [52480/60000 (87%)]\tLoss: 0.139985\n",
            "Train Epoch: 3 [53120/60000 (88%)]\tLoss: 0.014922\n",
            "Train Epoch: 3 [53760/60000 (90%)]\tLoss: 0.069680\n",
            "Train Epoch: 3 [54400/60000 (91%)]\tLoss: 0.019786\n",
            "Train Epoch: 3 [55040/60000 (92%)]\tLoss: 0.041510\n",
            "Train Epoch: 3 [55680/60000 (93%)]\tLoss: 0.053582\n",
            "Train Epoch: 3 [56320/60000 (94%)]\tLoss: 0.097482\n",
            "Train Epoch: 3 [56960/60000 (95%)]\tLoss: 0.130481\n",
            "Train Epoch: 3 [57600/60000 (96%)]\tLoss: 0.040328\n",
            "Train Epoch: 3 [58240/60000 (97%)]\tLoss: 0.030174\n",
            "Train Epoch: 3 [58880/60000 (98%)]\tLoss: 0.018040\n",
            "Train Epoch: 3 [59520/60000 (99%)]\tLoss: 0.013049\n",
            "\n",
            "Test set: Avg. loss: 0.1135, Accuracy: 9676/10000 (97%)\n",
            "\n",
            "Train Epoch: 4 [0/60000 (0%)]\tLoss: 0.017812\n",
            "Train Epoch: 4 [640/60000 (1%)]\tLoss: 0.035463\n",
            "Train Epoch: 4 [1280/60000 (2%)]\tLoss: 0.057581\n",
            "Train Epoch: 4 [1920/60000 (3%)]\tLoss: 0.033788\n",
            "Train Epoch: 4 [2560/60000 (4%)]\tLoss: 0.019433\n",
            "Train Epoch: 4 [3200/60000 (5%)]\tLoss: 0.008504\n",
            "Train Epoch: 4 [3840/60000 (6%)]\tLoss: 0.071999\n",
            "Train Epoch: 4 [4480/60000 (7%)]\tLoss: 0.041901\n",
            "Train Epoch: 4 [5120/60000 (9%)]\tLoss: 0.027680\n",
            "Train Epoch: 4 [5760/60000 (10%)]\tLoss: 0.014843\n",
            "Train Epoch: 4 [6400/60000 (11%)]\tLoss: 0.026688\n",
            "Train Epoch: 4 [7040/60000 (12%)]\tLoss: 0.019284\n",
            "Train Epoch: 4 [7680/60000 (13%)]\tLoss: 0.043378\n",
            "Train Epoch: 4 [8320/60000 (14%)]\tLoss: 0.037974\n",
            "Train Epoch: 4 [8960/60000 (15%)]\tLoss: 0.128589\n",
            "Train Epoch: 4 [9600/60000 (16%)]\tLoss: 0.029723\n",
            "Train Epoch: 4 [10240/60000 (17%)]\tLoss: 0.083920\n",
            "Train Epoch: 4 [10880/60000 (18%)]\tLoss: 0.001157\n",
            "Train Epoch: 4 [11520/60000 (19%)]\tLoss: 0.106888\n",
            "Train Epoch: 4 [12160/60000 (20%)]\tLoss: 0.106102\n",
            "Train Epoch: 4 [12800/60000 (21%)]\tLoss: 0.007307\n",
            "Train Epoch: 4 [13440/60000 (22%)]\tLoss: 0.028564\n",
            "Train Epoch: 4 [14080/60000 (23%)]\tLoss: 0.032318\n",
            "Train Epoch: 4 [14720/60000 (25%)]\tLoss: 0.005567\n",
            "Train Epoch: 4 [15360/60000 (26%)]\tLoss: 0.016543\n",
            "Train Epoch: 4 [16000/60000 (27%)]\tLoss: 0.104297\n",
            "Train Epoch: 4 [16640/60000 (28%)]\tLoss: 0.120568\n",
            "Train Epoch: 4 [17280/60000 (29%)]\tLoss: 0.077136\n",
            "Train Epoch: 4 [17920/60000 (30%)]\tLoss: 0.048723\n",
            "Train Epoch: 4 [18560/60000 (31%)]\tLoss: 0.047729\n",
            "Train Epoch: 4 [19200/60000 (32%)]\tLoss: 0.021878\n",
            "Train Epoch: 4 [19840/60000 (33%)]\tLoss: 0.096015\n",
            "Train Epoch: 4 [20480/60000 (34%)]\tLoss: 0.044763\n",
            "Train Epoch: 4 [21120/60000 (35%)]\tLoss: 0.026018\n",
            "Train Epoch: 4 [21760/60000 (36%)]\tLoss: 0.014450\n",
            "Train Epoch: 4 [22400/60000 (37%)]\tLoss: 0.023909\n",
            "Train Epoch: 4 [23040/60000 (38%)]\tLoss: 0.018626\n",
            "Train Epoch: 4 [23680/60000 (39%)]\tLoss: 0.016025\n",
            "Train Epoch: 4 [24320/60000 (41%)]\tLoss: 0.030175\n",
            "Train Epoch: 4 [24960/60000 (42%)]\tLoss: 0.066340\n",
            "Train Epoch: 4 [25600/60000 (43%)]\tLoss: 0.042732\n",
            "Train Epoch: 4 [26240/60000 (44%)]\tLoss: 0.001468\n",
            "Train Epoch: 4 [26880/60000 (45%)]\tLoss: 0.046237\n",
            "Train Epoch: 4 [27520/60000 (46%)]\tLoss: 0.032704\n",
            "Train Epoch: 4 [28160/60000 (47%)]\tLoss: 0.013322\n",
            "Train Epoch: 4 [28800/60000 (48%)]\tLoss: 0.156675\n",
            "Train Epoch: 4 [29440/60000 (49%)]\tLoss: 0.017706\n",
            "Train Epoch: 4 [30080/60000 (50%)]\tLoss: 0.034837\n",
            "Train Epoch: 4 [30720/60000 (51%)]\tLoss: 0.040046\n",
            "Train Epoch: 4 [31360/60000 (52%)]\tLoss: 0.007520\n",
            "Train Epoch: 4 [32000/60000 (53%)]\tLoss: 0.003695\n",
            "Train Epoch: 4 [32640/60000 (54%)]\tLoss: 0.055940\n",
            "Train Epoch: 4 [33280/60000 (55%)]\tLoss: 0.013321\n",
            "Train Epoch: 4 [33920/60000 (57%)]\tLoss: 0.076170\n",
            "Train Epoch: 4 [34560/60000 (58%)]\tLoss: 0.019774\n",
            "Train Epoch: 4 [35200/60000 (59%)]\tLoss: 0.073179\n",
            "Train Epoch: 4 [35840/60000 (60%)]\tLoss: 0.015203\n",
            "Train Epoch: 4 [36480/60000 (61%)]\tLoss: 0.154459\n",
            "Train Epoch: 4 [37120/60000 (62%)]\tLoss: 0.024577\n",
            "Train Epoch: 4 [37760/60000 (63%)]\tLoss: 0.097974\n",
            "Train Epoch: 4 [38400/60000 (64%)]\tLoss: 0.028744\n",
            "Train Epoch: 4 [39040/60000 (65%)]\tLoss: 0.177774\n",
            "Train Epoch: 4 [39680/60000 (66%)]\tLoss: 0.017663\n",
            "Train Epoch: 4 [40320/60000 (67%)]\tLoss: 0.009635\n",
            "Train Epoch: 4 [40960/60000 (68%)]\tLoss: 0.008630\n",
            "Train Epoch: 4 [41600/60000 (69%)]\tLoss: 0.055590\n",
            "Train Epoch: 4 [42240/60000 (70%)]\tLoss: 0.055043\n",
            "Train Epoch: 4 [42880/60000 (71%)]\tLoss: 0.003429\n",
            "Train Epoch: 4 [43520/60000 (72%)]\tLoss: 0.096777\n",
            "Train Epoch: 4 [44160/60000 (74%)]\tLoss: 0.059728\n",
            "Train Epoch: 4 [44800/60000 (75%)]\tLoss: 0.068132\n",
            "Train Epoch: 4 [45440/60000 (76%)]\tLoss: 0.003464\n",
            "Train Epoch: 4 [46080/60000 (77%)]\tLoss: 0.014049\n",
            "Train Epoch: 4 [46720/60000 (78%)]\tLoss: 0.020506\n",
            "Train Epoch: 4 [47360/60000 (79%)]\tLoss: 0.150769\n",
            "Train Epoch: 4 [48000/60000 (80%)]\tLoss: 0.008260\n",
            "Train Epoch: 4 [48640/60000 (81%)]\tLoss: 0.080138\n",
            "Train Epoch: 4 [49280/60000 (82%)]\tLoss: 0.023696\n",
            "Train Epoch: 4 [49920/60000 (83%)]\tLoss: 0.007423\n",
            "Train Epoch: 4 [50560/60000 (84%)]\tLoss: 0.002253\n",
            "Train Epoch: 4 [51200/60000 (85%)]\tLoss: 0.008119\n",
            "Train Epoch: 4 [51840/60000 (86%)]\tLoss: 0.028987\n",
            "Train Epoch: 4 [52480/60000 (87%)]\tLoss: 0.006520\n",
            "Train Epoch: 4 [53120/60000 (88%)]\tLoss: 0.046004\n",
            "Train Epoch: 4 [53760/60000 (90%)]\tLoss: 0.043604\n",
            "Train Epoch: 4 [54400/60000 (91%)]\tLoss: 0.015502\n",
            "Train Epoch: 4 [55040/60000 (92%)]\tLoss: 0.032892\n",
            "Train Epoch: 4 [55680/60000 (93%)]\tLoss: 0.062045\n",
            "Train Epoch: 4 [56320/60000 (94%)]\tLoss: 0.086168\n",
            "Train Epoch: 4 [56960/60000 (95%)]\tLoss: 0.078964\n",
            "Train Epoch: 4 [57600/60000 (96%)]\tLoss: 0.091511\n",
            "Train Epoch: 4 [58240/60000 (97%)]\tLoss: 0.074379\n",
            "Train Epoch: 4 [58880/60000 (98%)]\tLoss: 0.081018\n",
            "Train Epoch: 4 [59520/60000 (99%)]\tLoss: 0.047525\n",
            "\n",
            "Test set: Avg. loss: 0.0599, Accuracy: 9805/10000 (98%)\n",
            "\n",
            "Train Epoch: 5 [0/60000 (0%)]\tLoss: 0.020943\n",
            "Train Epoch: 5 [640/60000 (1%)]\tLoss: 0.120288\n",
            "Train Epoch: 5 [1280/60000 (2%)]\tLoss: 0.014478\n",
            "Train Epoch: 5 [1920/60000 (3%)]\tLoss: 0.012702\n",
            "Train Epoch: 5 [2560/60000 (4%)]\tLoss: 0.001317\n",
            "Train Epoch: 5 [3200/60000 (5%)]\tLoss: 0.098944\n",
            "Train Epoch: 5 [3840/60000 (6%)]\tLoss: 0.009079\n",
            "Train Epoch: 5 [4480/60000 (7%)]\tLoss: 0.001341\n",
            "Train Epoch: 5 [5120/60000 (9%)]\tLoss: 0.013894\n",
            "Train Epoch: 5 [5760/60000 (10%)]\tLoss: 0.069313\n",
            "Train Epoch: 5 [6400/60000 (11%)]\tLoss: 0.008920\n",
            "Train Epoch: 5 [7040/60000 (12%)]\tLoss: 0.015930\n",
            "Train Epoch: 5 [7680/60000 (13%)]\tLoss: 0.122812\n",
            "Train Epoch: 5 [8320/60000 (14%)]\tLoss: 0.002835\n",
            "Train Epoch: 5 [8960/60000 (15%)]\tLoss: 0.006479\n",
            "Train Epoch: 5 [9600/60000 (16%)]\tLoss: 0.016640\n",
            "Train Epoch: 5 [10240/60000 (17%)]\tLoss: 0.020798\n",
            "Train Epoch: 5 [10880/60000 (18%)]\tLoss: 0.040062\n",
            "Train Epoch: 5 [11520/60000 (19%)]\tLoss: 0.020636\n",
            "Train Epoch: 5 [12160/60000 (20%)]\tLoss: 0.023879\n",
            "Train Epoch: 5 [12800/60000 (21%)]\tLoss: 0.022494\n",
            "Train Epoch: 5 [13440/60000 (22%)]\tLoss: 0.009212\n",
            "Train Epoch: 5 [14080/60000 (23%)]\tLoss: 0.006115\n",
            "Train Epoch: 5 [14720/60000 (25%)]\tLoss: 0.009895\n",
            "Train Epoch: 5 [15360/60000 (26%)]\tLoss: 0.048324\n",
            "Train Epoch: 5 [16000/60000 (27%)]\tLoss: 0.003462\n",
            "Train Epoch: 5 [16640/60000 (28%)]\tLoss: 0.044936\n",
            "Train Epoch: 5 [17280/60000 (29%)]\tLoss: 0.088876\n",
            "Train Epoch: 5 [17920/60000 (30%)]\tLoss: 0.013290\n",
            "Train Epoch: 5 [18560/60000 (31%)]\tLoss: 0.011331\n",
            "Train Epoch: 5 [19200/60000 (32%)]\tLoss: 0.015992\n",
            "Train Epoch: 5 [19840/60000 (33%)]\tLoss: 0.009157\n",
            "Train Epoch: 5 [20480/60000 (34%)]\tLoss: 0.008598\n",
            "Train Epoch: 5 [21120/60000 (35%)]\tLoss: 0.093006\n",
            "Train Epoch: 5 [21760/60000 (36%)]\tLoss: 0.062862\n",
            "Train Epoch: 5 [22400/60000 (37%)]\tLoss: 0.012784\n",
            "Train Epoch: 5 [23040/60000 (38%)]\tLoss: 0.159726\n",
            "Train Epoch: 5 [23680/60000 (39%)]\tLoss: 0.025292\n",
            "Train Epoch: 5 [24320/60000 (41%)]\tLoss: 0.037227\n",
            "Train Epoch: 5 [24960/60000 (42%)]\tLoss: 0.074105\n",
            "Train Epoch: 5 [25600/60000 (43%)]\tLoss: 0.047612\n",
            "Train Epoch: 5 [26240/60000 (44%)]\tLoss: 0.015458\n",
            "Train Epoch: 5 [26880/60000 (45%)]\tLoss: 0.039404\n",
            "Train Epoch: 5 [27520/60000 (46%)]\tLoss: 0.152166\n",
            "Train Epoch: 5 [28160/60000 (47%)]\tLoss: 0.027368\n",
            "Train Epoch: 5 [28800/60000 (48%)]\tLoss: 0.003585\n",
            "Train Epoch: 5 [29440/60000 (49%)]\tLoss: 0.011994\n",
            "Train Epoch: 5 [30080/60000 (50%)]\tLoss: 0.014804\n",
            "Train Epoch: 5 [30720/60000 (51%)]\tLoss: 0.031523\n",
            "Train Epoch: 5 [31360/60000 (52%)]\tLoss: 0.065616\n",
            "Train Epoch: 5 [32000/60000 (53%)]\tLoss: 0.079241\n",
            "Train Epoch: 5 [32640/60000 (54%)]\tLoss: 0.093381\n",
            "Train Epoch: 5 [33280/60000 (55%)]\tLoss: 0.079775\n",
            "Train Epoch: 5 [33920/60000 (57%)]\tLoss: 0.008675\n",
            "Train Epoch: 5 [34560/60000 (58%)]\tLoss: 0.051913\n",
            "Train Epoch: 5 [35200/60000 (59%)]\tLoss: 0.037101\n",
            "Train Epoch: 5 [35840/60000 (60%)]\tLoss: 0.056306\n",
            "Train Epoch: 5 [36480/60000 (61%)]\tLoss: 0.067089\n",
            "Train Epoch: 5 [37120/60000 (62%)]\tLoss: 0.120578\n",
            "Train Epoch: 5 [37760/60000 (63%)]\tLoss: 0.041817\n",
            "Train Epoch: 5 [38400/60000 (64%)]\tLoss: 0.003486\n",
            "Train Epoch: 5 [39040/60000 (65%)]\tLoss: 0.003857\n",
            "Train Epoch: 5 [39680/60000 (66%)]\tLoss: 0.007603\n",
            "Train Epoch: 5 [40320/60000 (67%)]\tLoss: 0.045851\n",
            "Train Epoch: 5 [40960/60000 (68%)]\tLoss: 0.011714\n",
            "Train Epoch: 5 [41600/60000 (69%)]\tLoss: 0.012271\n",
            "Train Epoch: 5 [42240/60000 (70%)]\tLoss: 0.009511\n",
            "Train Epoch: 5 [42880/60000 (71%)]\tLoss: 0.037192\n",
            "Train Epoch: 5 [43520/60000 (72%)]\tLoss: 0.010422\n",
            "Train Epoch: 5 [44160/60000 (74%)]\tLoss: 0.052538\n",
            "Train Epoch: 5 [44800/60000 (75%)]\tLoss: 0.047428\n",
            "Train Epoch: 5 [45440/60000 (76%)]\tLoss: 0.200353\n",
            "Train Epoch: 5 [46080/60000 (77%)]\tLoss: 0.020691\n",
            "Train Epoch: 5 [46720/60000 (78%)]\tLoss: 0.046533\n",
            "Train Epoch: 5 [47360/60000 (79%)]\tLoss: 0.003284\n",
            "Train Epoch: 5 [48000/60000 (80%)]\tLoss: 0.069989\n",
            "Train Epoch: 5 [48640/60000 (81%)]\tLoss: 0.021723\n",
            "Train Epoch: 5 [49280/60000 (82%)]\tLoss: 0.055736\n",
            "Train Epoch: 5 [49920/60000 (83%)]\tLoss: 0.022434\n",
            "Train Epoch: 5 [50560/60000 (84%)]\tLoss: 0.054028\n",
            "Train Epoch: 5 [51200/60000 (85%)]\tLoss: 0.002068\n",
            "Train Epoch: 5 [51840/60000 (86%)]\tLoss: 0.014130\n",
            "Train Epoch: 5 [52480/60000 (87%)]\tLoss: 0.014298\n",
            "Train Epoch: 5 [53120/60000 (88%)]\tLoss: 0.003862\n",
            "Train Epoch: 5 [53760/60000 (90%)]\tLoss: 0.018271\n",
            "Train Epoch: 5 [54400/60000 (91%)]\tLoss: 0.032423\n",
            "Train Epoch: 5 [55040/60000 (92%)]\tLoss: 0.049921\n",
            "Train Epoch: 5 [55680/60000 (93%)]\tLoss: 0.002181\n",
            "Train Epoch: 5 [56320/60000 (94%)]\tLoss: 0.005463\n",
            "Train Epoch: 5 [56960/60000 (95%)]\tLoss: 0.002486\n",
            "Train Epoch: 5 [57600/60000 (96%)]\tLoss: 0.062546\n",
            "Train Epoch: 5 [58240/60000 (97%)]\tLoss: 0.069849\n",
            "Train Epoch: 5 [58880/60000 (98%)]\tLoss: 0.013177\n",
            "Train Epoch: 5 [59520/60000 (99%)]\tLoss: 0.006616\n",
            "\n",
            "Test set: Avg. loss: 0.0520, Accuracy: 9844/10000 (98%)\n",
            "\n"
          ]
        }
      ]
    },
    {
      "cell_type": "markdown",
      "source": [
        "# Out-of-distribution Detection (FashionMNIST)\n",
        "\n",
        "The FashionMNIST dataset serves as an out-of-distribution (OOD) dataset for the MNIST dataset, providing a more challenging and diverse set of images. While MNIST consists of 70,000 grayscale images of handwritten digits (0-9), FashionMNIST contains 70,000 grayscale images of various clothing items, including t-shirts, trousers, pullovers, dresses, coats, sandals, shirts, sneakers, bags, and ankle boots. Both datasets have the same structure, with 28x28 pixel images and 10 classes, making FashionMNIST a suitable alternative for evaluating models trained on MNIST. By using FashionMNIST as OOD data, we can assess the robustness our model when exposed to visually different, yet structurally similar, data."
      ],
      "metadata": {
        "id": "nR9l3kj_BFPU"
      }
    },
    {
      "cell_type": "code",
      "source": [
        "train_fashion_loader = torch.utils.data.DataLoader(\n",
        "  torchvision.datasets.FashionMNIST('/files/', train=True, download=True,\n",
        "                             transform=torchvision.transforms.Compose([\n",
        "                               torchvision.transforms.ToTensor(),\n",
        "                               torchvision.transforms.Normalize(\n",
        "                                 (0.1307,), (0.3081,))\n",
        "                             ])),\n",
        "  batch_size=batch_size_train, shuffle=True)\n",
        "\n",
        "test_fashion_loader = torch.utils.data.DataLoader(\n",
        "  torchvision.datasets.FashionMNIST('/files/', train=False, download=True,\n",
        "                             transform=torchvision.transforms.Compose([\n",
        "                               torchvision.transforms.ToTensor(),\n",
        "                               torchvision.transforms.Normalize(\n",
        "                                 (0.1307,), (0.3081,))\n",
        "                             ])),\n",
        "  batch_size=batch_size_test, shuffle=True)"
      ],
      "metadata": {
        "id": "AHdqYqiL_Hcw"
      },
      "execution_count": 16,
      "outputs": []
    },
    {
      "cell_type": "code",
      "source": [
        "import matplotlib.pyplot as plt\n",
        "\n",
        "images, targets = next(iter(test_fashion_loader))\n",
        "\n",
        "# Number of images you want to display\n",
        "num_images = 10\n",
        "\n",
        "# Create a figure and a row of subplots\n",
        "fig, axes = plt.subplots(1, num_images, figsize=(15, 3))\n",
        "\n",
        "# Plot each image on a separate subplot\n",
        "for i in range(num_images):\n",
        "    axes[i].imshow(images[i, 0], cmap='gray')\n",
        "    axes[i].axis('off')  # Hide axis\n",
        "\n",
        "plt.show()"
      ],
      "metadata": {
        "id": "E0cYF9yjBN5R",
        "outputId": "6dff9766-81f1-4b22-ac0f-57d2a170590e",
        "colab": {
          "base_uri": "https://localhost:8080/",
          "height": 155
        }
      },
      "execution_count": 17,
      "outputs": [
        {
          "output_type": "display_data",
          "data": {
            "text/plain": [
              "<Figure size 1500x300 with 10 Axes>"
            ],
            "image/png": "[encoded data removed]"
          },
          "metadata": {}
        }
      ]
    },
    {
      "cell_type": "code",
      "source": [
        "# Computing OOD metrics\n",
        "\n",
        "network.eval()\n",
        "\n",
        "uncertainties = np.array([])\n",
        "labels = np.array([])\n",
        "vectors = np.array([[]]).reshape([0, 10])\n",
        "vectors_2 = np.array([[]]).reshape([0, 10])\n",
        "\n",
        "C = -20\n",
        "\n",
        "with torch.no_grad():\n",
        "  for data, target in test_loader:\n",
        "\n",
        "    # For further details, see Fig. 1 in https://openreview.net/pdf?id=QSvb6jBXML\n",
        "    # The first inference with an additional \"blank\" channel, the top level in Fig. 1\n",
        "    inputs = torch.cat([data, C*torch.ones_like(data)], dim=1).cpu()\n",
        "    output = network(inputs)\n",
        "    output = torch.softmax(output, dim=1)\n",
        "    pred_target = torch.argmax(output, dim=1)\n",
        "\n",
        "    # The second inference with added initial prediction, the bottom level in Fig. 1\n",
        "    inputs = torch.cat([data.cpu(), pred_target.reshape(-1, 1, 1, 1) * torch.ones_like(data).cpu()], dim=1).cpu()\n",
        "    output_w = network(inputs)\n",
        "    output_w = torch.softmax(output_w, dim=1)\n",
        "    pred_target = torch.argmax(output_w, dim=1)\n",
        "\n",
        "    # Compute uncertainty as the difference between two predictions (see Eq. 3)\n",
        "    uncertainty = torch.abs(output - output_w).mean(dim=1).cpu()\n",
        "\n",
        "    # Save label for further AUC evaluation\n",
        "    # In-distribution samples are assigned label 0\n",
        "    label = np.zeros_like(uncertainty)\n",
        "\n",
        "    uncertainties = np.concatenate([uncertainties, uncertainty])\n",
        "    labels = np.concatenate([labels, label])\n",
        "\n",
        "with torch.no_grad():\n",
        "  for data, target in test_fashion_loader:\n",
        "\n",
        "    # For further details, see Fig. 1 in https://openreview.net/pdf?id=QSvb6jBXML\n",
        "    # The first inference with an additional \"blank\" channel, the top level in Fig. 1\n",
        "    inputs = torch.cat([data, C*torch.ones_like(data)], dim=1).cpu()\n",
        "    output = network(inputs)\n",
        "    output = torch.softmax(output, dim=1)\n",
        "    pred_target = torch.argmax(output, dim=1)\n",
        "\n",
        "    # The second inference with added initial prediction, the bottom level in Fig. 1\n",
        "    inputs = torch.cat([data.cpu(), pred_target.reshape(-1, 1, 1, 1) * torch.ones_like(data).cpu()], dim=1).cpu()\n",
        "    output_w = network(inputs)\n",
        "    output_w = torch.softmax(output_w, dim=1)\n",
        "    pred_target = torch.argmax(output_w, dim=1)\n",
        "\n",
        "    # Compute uncertainty as the difference between two predictions (see Eq. 3)\n",
        "    uncertainty = torch.abs(output - output_w).mean(dim=1).cpu()\n",
        "\n",
        "    # Save label for further AUC evaluation\n",
        "    # Out-of-distribution samples are assigned label 1\n",
        "    label = np.ones_like(uncertainty)\n",
        "\n",
        "    uncertainties = np.concatenate([uncertainties, uncertainty])\n",
        "    labels = np.concatenate([labels, label])"
      ],
      "metadata": {
        "colab": {
          "base_uri": "https://localhost:8080/"
        },
        "id": "X5Wx9sImAaen",
        "outputId": "6ced2548-6b77-4b93-8431-ff5a408a4a4b"
      },
      "execution_count": 49,
      "outputs": [
        {
          "output_type": "stream",
          "name": "stderr",
          "text": [
            "<ipython-input-2-7d6a1feb5ac6>:22: UserWarning: Implicit dimension choice for log_softmax has been deprecated. Change the call to include dim=X as an argument.\n",
            "  return F.log_softmax(x)\n"
          ]
        },
        {
          "output_type": "stream",
          "name": "stdout",
          "text": [
            "SINGLE MNIST ROC AUC: 0.98541304 PR AUC: 0.9834263154449212\n"
          ]
        }
      ]
    },
    {
      "cell_type": "code",
      "source": [
        "import sklearn.metrics\n",
        "roc_auc = sklearn.metrics.roc_auc_score(labels, uncertainties)\n",
        "precision, recall, thresholds = sklearn.metrics.precision_recall_curve(labels, uncertainties)\n",
        "pr_auc = sklearn.metrics.auc(recall, precision)\n",
        "\n",
        "# evaluate ROC- and PR-AUC metrics, see https://arxiv.org/abs/1802.10501 for more details\n",
        "print(f\"ROC AUC: {roc_auc:.4f} \")\n",
        "print(f\"PR AUC: {pr_auc:.4f}\")"
      ],
      "metadata": {
        "id": "4QOjfe12Kh-w",
        "outputId": "fb2fb1c4-deb8-46f6-84ac-de77689644b4",
        "colab": {
          "base_uri": "https://localhost:8080/"
        }
      },
      "execution_count": 56,
      "outputs": [
        {
          "output_type": "stream",
          "name": "stdout",
          "text": [
            "ROC AUC: 0.9854 \n",
            "PR AUC: 0.9834\n"
          ]
        }
      ]
    },
    {
      "cell_type": "code",
      "source": [
        "# Plot ROC curve\n",
        "fpr, tpr, _ = sklearn.metrics.roc_curve(labels, uncertainties)\n",
        "plt.figure()\n",
        "plt.plot(fpr, tpr, label=f'ROC curve (area = {roc_auc:.2f})')\n",
        "plt.plot([0, 1], [0, 1], 'g--', label=\"Random classifier\")\n",
        "plt.hlines(1, xmin=0, xmax=1, color='k', linestyle=\"--\")\n",
        "plt.vlines(0, ymin=0, ymax=1, color='k', linestyle=\"--\")\n",
        "plt.xlim([-0.01, 1.05])\n",
        "plt.ylim([0.0, 1.05])\n",
        "plt.xlabel('False Positive Rate')\n",
        "plt.ylabel('True Positive Rate')\n",
        "plt.title('Receiver Operating Characteristic')\n",
        "plt.grid()\n",
        "plt.legend(loc=\"lower right\")\n",
        "plt.show()\n",
        "\n",
        "# Plot PR curve\n",
        "plt.figure()\n",
        "plt.plot(recall, precision, label=f'PR curve (area = {pr_auc:.2f})')\n",
        "plt.hlines(1, xmin=0, xmax=1, color='k', linestyle=\"--\")\n",
        "plt.vlines(1, ymin=0, ymax=1, color='k', linestyle=\"--\")\n",
        "plt.xlabel('Recall')\n",
        "plt.ylabel('Precision')\n",
        "plt.title('Precision-Recall curve')\n",
        "plt.xlim([-0.01, 1.05])\n",
        "plt.ylim([0.0, 1.05])\n",
        "plt.grid()\n",
        "plt.legend(loc=\"lower left\")\n",
        "plt.show()\n"
      ],
      "metadata": {
        "id": "qYqIPMTII5JW",
        "outputId": "90b91ba4-bec0-4757-cdbe-c5cdf8657f92",
        "colab": {
          "base_uri": "https://localhost:8080/",
          "height": 947
        }
      },
      "execution_count": 57,
      "outputs": [
        {
          "output_type": "display_data",
          "data": {
            "text/plain": [
              "<Figure size 640x480 with 1 Axes>"
            ],
            "image/png": "[encoded data removed]"
          },
          "metadata": {}
        },
        {
          "output_type": "display_data",
          "data": {
            "text/plain": [
              "<Figure size 640x480 with 1 Axes>"
            ],
            "image/png": "[encoded data removed]"
          },
          "metadata": {}
        }
      ]
    },
    {
      "cell_type": "markdown",
      "source": [
        "# Uncertainty Calibration Evaluation\n",
        "\n",
        "For calibration evaluation, we use the rAULC metric. For more details, see https://arxiv.org/pdf/2107.00649."
      ],
      "metadata": {
        "id": "lXiOGMfdLR9i"
      }
    },
    {
      "cell_type": "code",
      "source": [
        "network.eval()\n",
        "\n",
        "uncertainties = np.array([])\n",
        "labels = np.array([])\n",
        "\n",
        "C = -20\n",
        "\n",
        "with torch.no_grad():\n",
        "  for data, target in test_loader:\n",
        "\n",
        "    # The first inference with an additional \"blank\" channel, the top level in Fig. 1\n",
        "    inputs = torch.cat([data, C*torch.ones_like(data)], dim=1).cpu()\n",
        "    output = network(inputs)\n",
        "\n",
        "    pred_target = torch.argmax(output, dim=1)\n",
        "\n",
        "     # The second inference with added initial prediction, the bottom level in Fig. 1\n",
        "    inputs = torch.cat([data.cpu(), pred_target.reshape(-1, 1, 1, 1) * torch.ones_like(data).cpu()], dim=1).cpu()\n",
        "    output_w = network(inputs, features=True)\n",
        "\n",
        "    # Compute uncertainty as the difference between two predictions (see Eq. 3)\n",
        "    uncertainty = torch.abs(torch.nn.functional.softmax(output) - torch.nn.functional.softmax(output_w)).mean(dim=1).detach().cpu()\n",
        "    label = (pred_target.cpu() == target).cpu()\n",
        "\n",
        "    uncertainties = np.concatenate([uncertainties, uncertainty])\n",
        "    labels = np.concatenate([labels, label])"
      ],
      "metadata": {
        "colab": {
          "base_uri": "https://localhost:8080/"
        },
        "id": "ynUZL69iAhxq",
        "outputId": "167444e8-4a83-44a1-fe96-7fa1ba4af88c"
      },
      "execution_count": 67,
      "outputs": [
        {
          "output_type": "stream",
          "name": "stderr",
          "text": [
            "<ipython-input-2-7d6a1feb5ac6>:22: UserWarning: Implicit dimension choice for log_softmax has been deprecated. Change the call to include dim=X as an argument.\n",
            "  return F.log_softmax(x)\n",
            "<ipython-input-67-d0e444181f5f>:22: UserWarning: Implicit dimension choice for softmax has been deprecated. Change the call to include dim=X as an argument.\n",
            "  uncertainty = torch.abs(torch.nn.functional.softmax(output) - torch.nn.functional.softmax(output_w)).mean(dim=1).detach().cpu()\n"
          ]
        }
      ]
    },
    {
      "cell_type": "code",
      "source": [
        "import numpy as np\n",
        "\n",
        "def AULC(accs, uncertainties):\n",
        "  idxs = np.argsort(uncertainties)\n",
        "  uncs_s = uncertainties[idxs]\n",
        "  error_s = accs[idxs]\n",
        "\n",
        "  mean_error = error_s.mean()\n",
        "  error_csum = np.cumsum(error_s)\n",
        "\n",
        "  Fs = error_csum / np.arange(1, len(error_s) + 1)\n",
        "  s = 1 / len(Fs)\n",
        "  return -1 + s * Fs.sum() / mean_error, Fs\n",
        "\n",
        "def rAULC(uncertainties, accs):\n",
        "    perf_aulc, Fsp = AULC(accs, -accs.astype(\"float\"))\n",
        "    curr_aulc, Fsc = AULC(accs, uncertainties)\n",
        "    print(perf_aulc, curr_aulc)\n",
        "    return curr_aulc / perf_aulc, Fsp, Fsc\n",
        "\n",
        "res, r1, r2 = rAULC(uncertainties, labels)\n",
        "print(res)\n",
        "\n",
        "import matplotlib.pyplot as plt\n",
        "plt.plot(range(len(r1)), r1)\n",
        "plt.plot(range(len(r1)), r2)\n",
        "plt.grid()"
      ],
      "metadata": {
        "colab": {
          "base_uri": "https://localhost:8080/",
          "height": 487
        },
        "id": "vIL9b26JA9Wx",
        "outputId": "c0b3abd3-1816-4ddd-b8cc-7e39a31e5dfe"
      },
      "execution_count": 65,
      "outputs": [
        {
          "output_type": "stream",
          "name": "stdout",
          "text": [
            "0.01572216813102867 0.015019794841701906\n",
            "0.9553259268395313\n"
          ]
        },
        {
          "output_type": "display_data",
          "data": {
            "text/plain": [
              "<Figure size 640x480 with 1 Axes>"
            ],
            "image/png": "[encoded data removed]"
          },
          "metadata": {}
        }
      ]
    }
  ]
}